{
  "nbformat": 4,
  "nbformat_minor": 0,
  "metadata": {
    "colab": {
      "name": "Aula4",
      "provenance": [],
      "authorship_tag": "ABX9TyP/OKXIADwCjMGm94vVA4F9",
      "include_colab_link": true
    },
    "kernelspec": {
      "name": "python3",
      "display_name": "Python 3"
    },
    "language_info": {
      "name": "python"
    }
  },
  "cells": [
    {
      "cell_type": "markdown",
      "metadata": {
        "id": "view-in-github",
        "colab_type": "text"
      },
      "source": [
        "<a href=\"https://colab.research.google.com/github/EdineyBlasques/Aula4_MeuPrimeiroReposit-rio/blob/main/Aula4.ipynb\" target=\"_parent\"><img src=\"https://colab.research.google.com/assets/colab-badge.svg\" alt=\"Open In Colab\"/></a>"
      ]
    },
    {
      "cell_type": "markdown",
      "source": [
        "#Esse é meu primeiro código em Python."
      ],
      "metadata": {
        "id": "xzgqcNiVBdO_"
      }
    },
    {
      "cell_type": "markdown",
      "source": [
        "##Semelhança com o Pseudo-código."
      ],
      "metadata": {
        "id": "YCAl0_YMCKHT"
      }
    },
    {
      "cell_type": "code",
      "execution_count": 9,
      "metadata": {
        "colab": {
          "base_uri": "https://localhost:8080/"
        },
        "id": "rzIVW-nuBLI8",
        "outputId": "fb6886de-48f8-4b14-9032-e8d38c814542"
      },
      "outputs": [
        {
          "output_type": "stream",
          "name": "stdout",
          "text": [
            "O valor e y é:  1\n",
            "\n",
            "\n",
            "x\n",
            "O valor e y é:  2\n",
            "\n",
            "\n",
            "x\n",
            "O valor e y é:  3\n",
            "\n",
            "\n",
            "x\n",
            "O valor e y é:  4\n",
            "\n",
            "\n",
            "x\n"
          ]
        }
      ],
      "source": [
        "x=5\n",
        "if x==5:\n",
        "  y=0\n",
        "  while y<4:\n",
        "    y=y+1\n",
        "    print(\"O valor e y é: \",y)\n",
        "    print(\"\\n\") #Pular 1 linha\n",
        "    #Ctrl / comenta e descomenta uma linha de código.\n",
        "    print(\"x\")"
      ]
    },
    {
      "cell_type": "markdown",
      "source": [
        "O Ctrl / comenta e descomenta uma linha de código."
      ],
      "metadata": {
        "id": "hHBdUzMoF5jL"
      }
    },
    {
      "cell_type": "markdown",
      "source": [
        "###Qual o tipo de variável?"
      ],
      "metadata": {
        "id": "vxrNRZjdGmtb"
      }
    },
    {
      "cell_type": "code",
      "source": [
        "type(x) #É uma função que devolve o tipo da variável."
      ],
      "metadata": {
        "colab": {
          "base_uri": "https://localhost:8080/"
        },
        "id": "Zj9Lp7r8Cjya",
        "outputId": "59e3dfdf-8154-4516-f814-ddcf078973f8"
      },
      "execution_count": 10,
      "outputs": [
        {
          "output_type": "execute_result",
          "data": {
            "text/plain": [
              "int"
            ]
          },
          "metadata": {},
          "execution_count": 10
        }
      ]
    },
    {
      "cell_type": "code",
      "source": [
        "type('x')"
      ],
      "metadata": {
        "colab": {
          "base_uri": "https://localhost:8080/"
        },
        "id": "yPsZfTBwG2Qb",
        "outputId": "9fe61f86-578b-4240-b197-9cc57985075f"
      },
      "execution_count": 11,
      "outputs": [
        {
          "output_type": "execute_result",
          "data": {
            "text/plain": [
              "str"
            ]
          },
          "metadata": {},
          "execution_count": 11
        }
      ]
    },
    {
      "cell_type": "markdown",
      "source": [
        "##Voltando com a semelhança com o Pseudo-código"
      ],
      "metadata": {
        "id": "eGSbvE-fHvHz"
      }
    },
    {
      "cell_type": "code",
      "source": [
        "for i in [5,6,7,8,9]:\n",
        "  print(i)"
      ],
      "metadata": {
        "colab": {
          "base_uri": "https://localhost:8080/"
        },
        "id": "aOqR5zhdG69a",
        "outputId": "d79702b3-b470-444f-bf29-51f8b389d198"
      },
      "execution_count": 16,
      "outputs": [
        {
          "output_type": "stream",
          "name": "stdout",
          "text": [
            "5\n",
            "6\n",
            "7\n",
            "8\n",
            "9\n"
          ]
        }
      ]
    },
    {
      "cell_type": "code",
      "source": [
        "for i in range(10):\n",
        "  print(i)"
      ],
      "metadata": {
        "colab": {
          "base_uri": "https://localhost:8080/"
        },
        "id": "hr3DVV9ZInG9",
        "outputId": "57eac163-0cfb-4d8e-baeb-38706eb39cc6"
      },
      "execution_count": 17,
      "outputs": [
        {
          "output_type": "stream",
          "name": "stdout",
          "text": [
            "0\n",
            "1\n",
            "2\n",
            "3\n",
            "4\n",
            "5\n",
            "6\n",
            "7\n",
            "8\n",
            "9\n"
          ]
        }
      ]
    },
    {
      "cell_type": "code",
      "source": [
        "for i in range(5,10):\n",
        "  print(i)"
      ],
      "metadata": {
        "colab": {
          "base_uri": "https://localhost:8080/"
        },
        "id": "FcG72e1LJIqs",
        "outputId": "5b1bf866-9c77-46cc-edb0-f2358b208933"
      },
      "execution_count": 18,
      "outputs": [
        {
          "output_type": "stream",
          "name": "stdout",
          "text": [
            "5\n",
            "6\n",
            "7\n",
            "8\n",
            "9\n"
          ]
        }
      ]
    },
    {
      "cell_type": "code",
      "source": [
        "for i in range(5,10,2):\n",
        "  print(i)"
      ],
      "metadata": {
        "colab": {
          "base_uri": "https://localhost:8080/"
        },
        "id": "RkC_LcQnJZ7N",
        "outputId": "95344eae-5497-4bb6-8316-fce4126ac307"
      },
      "execution_count": 19,
      "outputs": [
        {
          "output_type": "stream",
          "name": "stdout",
          "text": [
            "5\n",
            "7\n",
            "9\n"
          ]
        }
      ]
    },
    {
      "cell_type": "code",
      "source": [
        "x=5\n",
        "if x==5:\n",
        "  y=0\n",
        "  while y<4:\n",
        "    y=y+1\n",
        "    print('O valor de y e: ',y)\n",
        "    print('\\n')\n",
        "    print(\"x\")\n",
        "    for i in [5,6,7,8,9]:\n",
        "      print(i)\n",
        "      print('\\n')\n",
        "    for i in range(10):\n",
        "      print(i)\n",
        "      print('\\n')\n",
        "    for i in range(5,10):\n",
        "      print(i)\n",
        "      print('\\n')\n",
        "    for i in range(5,10,2):\n",
        "      print(i)\n",
        "      print('\\n')"
      ],
      "metadata": {
        "id": "TyMAq-NtJ7ng"
      },
      "execution_count": null,
      "outputs": []
    },
    {
      "cell_type": "code",
      "source": [
        ""
      ],
      "metadata": {
        "id": "kYpvPEMHLKEt"
      },
      "execution_count": null,
      "outputs": []
    }
  ]
}